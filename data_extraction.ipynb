{
 "cells": [
  {
   "cell_type": "markdown",
   "metadata": {},
   "source": [
    "### Extracting images and labels"
   ]
  },
  {
   "cell_type": "code",
   "execution_count": 1,
   "metadata": {},
   "outputs": [
    {
     "name": "stdout",
     "output_type": "stream",
     "text": [
      "Images and labels have been extracted and organized.\n"
     ]
    }
   ],
   "source": [
    "import os\n",
    "import shutil\n",
    "\n",
    "# Define paths\n",
    "dataset_root = 'northal_20190513t234653'\n",
    "output_images_dir = 'dataset/images/northal_20190513t234653'\n",
    "output_labels_dir = 'dataset/labels/northal_20190513t234653'\n",
    "\n",
    "# Create directories for output if not exist\n",
    "os.makedirs(output_images_dir, exist_ok=True)\n",
    "os.makedirs(output_labels_dir, exist_ok=True)\n",
    "\n",
    "# Traverse dataset\n",
    "for root, _, files in os.walk(dataset_root):\n",
    "    for file in files:\n",
    "        file_path = os.path.join(root, file)\n",
    "        \n",
    "        if '_label' in file:  # Labels\n",
    "            output_path = os.path.join(output_labels_dir, file)\n",
    "            shutil.copy(file_path, output_path)\n",
    "        elif file.endswith('.tif') and '_label' not in file and not file.endswith('.msk'):  # Images\n",
    "            output_path = os.path.join(output_images_dir, file)\n",
    "            shutil.copy(file_path, output_path)\n",
    "\n",
    "print(\"Images and labels have been extracted and organized.\")\n"
   ]
  },
  {
   "cell_type": "code",
   "execution_count": null,
   "metadata": {},
   "outputs": [],
   "source": []
  }
 ],
 "metadata": {
  "kernelspec": {
   "display_name": "Python 3",
   "language": "python",
   "name": "python3"
  },
  "language_info": {
   "codemirror_mode": {
    "name": "ipython",
    "version": 3
   },
   "file_extension": ".py",
   "mimetype": "text/x-python",
   "name": "python",
   "nbconvert_exporter": "python",
   "pygments_lexer": "ipython3",
   "version": "3.12.1"
  }
 },
 "nbformat": 4,
 "nbformat_minor": 2
}
